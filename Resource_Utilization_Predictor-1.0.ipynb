{
 "cells": [
  {
   "cell_type": "code",
   "execution_count": 35,
   "metadata": {},
   "outputs": [],
   "source": [
    "import numpy\n",
    "import pandas\n",
    "import calendar\n",
    "import os\n",
    "import seaborn as sns\n",
    "\n",
    "from keras.models import Sequential\n",
    "from keras.layers import Dense,Dropout\n",
    "from keras.optimizers import SGD\n",
    "from keras.layers import BatchNormalization\n",
    "\n",
    "from keras.wrappers.scikit_learn import KerasRegressor\n",
    "from keras.callbacks import EarlyStopping\n",
    "from sklearn.model_selection import cross_val_score\n",
    "from sklearn.model_selection import KFold\n",
    "from sklearn.preprocessing import StandardScaler\n",
    "from sklearn.preprocessing import MinMaxScaler\n",
    "from sklearn.pipeline import Pipeline\n",
    "from keras import regularizers\n",
    "from keras.constraints import maxnorm\n",
    "\n"
   ]
  },
  {
   "cell_type": "code",
   "execution_count": 36,
   "metadata": {},
   "outputs": [],
   "source": [
    "# to make this notebook's output stable across runs\n",
    "numpy.random.seed(7)\n",
    "\n",
    "# To plot pretty figures\n",
    "%matplotlib inline\n",
    "import matplotlib as mpl\n",
    "import matplotlib.pyplot as plt\n",
    "mpl.rc('axes', labelsize=14)\n",
    "mpl.rc('xtick', labelsize=12)\n",
    "mpl.rc('ytick', labelsize=12)\n",
    "\n",
    "# Where to save the figures\n",
    "PROJECT_ROOT_DIR = \".\"\n",
    "IMAGES_PATH = os.path.join(PROJECT_ROOT_DIR, \"graphs\")\n",
    "\n",
    "def save_fig(fig_id, tight_layout=True, fig_extension=\"png\", resolution=300):\n",
    "    path = os.path.join(IMAGES_PATH, fig_id + \".\" + fig_extension)\n",
    "    print(\"Saving figure\", fig_id)\n",
    "    if tight_layout:\n",
    "        plt.tight_layout()\n",
    "    plt.savefig(path, format=fig_extension, dpi=resolution)\n",
    "\n",
    "# Ignore useless warnings (see SciPy issue #5998)\n",
    "import warnings\n",
    "warnings.filterwarnings(action=\"ignore\", message=\"^internal gelsd\")"
   ]
  },
  {
   "cell_type": "code",
   "execution_count": 37,
   "metadata": {},
   "outputs": [
    {
     "data": {
      "text/plain": [
       "(2120, 7)"
      ]
     },
     "execution_count": 37,
     "metadata": {},
     "output_type": "execute_result"
    }
   ],
   "source": [
    "# load dataset\n",
    "original_data = pandas.read_csv(\".//Data//TrainingData1.csv\")\n",
    "\n",
    "original_data.shape\n"
   ]
  },
  {
   "cell_type": "code",
   "execution_count": 38,
   "metadata": {},
   "outputs": [
    {
     "data": {
      "text/html": [
       "<div>\n",
       "<style scoped>\n",
       "    .dataframe tbody tr th:only-of-type {\n",
       "        vertical-align: middle;\n",
       "    }\n",
       "\n",
       "    .dataframe tbody tr th {\n",
       "        vertical-align: top;\n",
       "    }\n",
       "\n",
       "    .dataframe thead th {\n",
       "        text-align: right;\n",
       "    }\n",
       "</style>\n",
       "<table border=\"1\" class=\"dataframe\">\n",
       "  <thead>\n",
       "    <tr style=\"text-align: right;\">\n",
       "      <th></th>\n",
       "      <th>Month</th>\n",
       "      <th>Day</th>\n",
       "      <th>WeekDay</th>\n",
       "      <th>Holiday</th>\n",
       "      <th>HolidayWeightage</th>\n",
       "      <th>NearHoliday</th>\n",
       "      <th>AttendancePercentage</th>\n",
       "    </tr>\n",
       "  </thead>\n",
       "  <tbody>\n",
       "    <tr>\n",
       "      <th>0</th>\n",
       "      <td>1</td>\n",
       "      <td>12</td>\n",
       "      <td>3</td>\n",
       "      <td>0</td>\n",
       "      <td>0</td>\n",
       "      <td>0</td>\n",
       "      <td>88.412943</td>\n",
       "    </tr>\n",
       "    <tr>\n",
       "      <th>1</th>\n",
       "      <td>11</td>\n",
       "      <td>29</td>\n",
       "      <td>4</td>\n",
       "      <td>0</td>\n",
       "      <td>0</td>\n",
       "      <td>0</td>\n",
       "      <td>83.279077</td>\n",
       "    </tr>\n",
       "    <tr>\n",
       "      <th>2</th>\n",
       "      <td>5</td>\n",
       "      <td>18</td>\n",
       "      <td>6</td>\n",
       "      <td>0</td>\n",
       "      <td>0</td>\n",
       "      <td>0</td>\n",
       "      <td>82.807641</td>\n",
       "    </tr>\n",
       "    <tr>\n",
       "      <th>3</th>\n",
       "      <td>7</td>\n",
       "      <td>1</td>\n",
       "      <td>5</td>\n",
       "      <td>0</td>\n",
       "      <td>0</td>\n",
       "      <td>0</td>\n",
       "      <td>79.008746</td>\n",
       "    </tr>\n",
       "    <tr>\n",
       "      <th>4</th>\n",
       "      <td>3</td>\n",
       "      <td>9</td>\n",
       "      <td>6</td>\n",
       "      <td>0</td>\n",
       "      <td>0</td>\n",
       "      <td>0</td>\n",
       "      <td>84.423019</td>\n",
       "    </tr>\n",
       "  </tbody>\n",
       "</table>\n",
       "</div>"
      ],
      "text/plain": [
       "   Month  Day  WeekDay  Holiday  HolidayWeightage  NearHoliday  \\\n",
       "0      1   12        3        0                 0            0   \n",
       "1     11   29        4        0                 0            0   \n",
       "2      5   18        6        0                 0            0   \n",
       "3      7    1        5        0                 0            0   \n",
       "4      3    9        6        0                 0            0   \n",
       "\n",
       "   AttendancePercentage  \n",
       "0             88.412943  \n",
       "1             83.279077  \n",
       "2             82.807641  \n",
       "3             79.008746  \n",
       "4             84.423019  "
      ]
     },
     "execution_count": 38,
     "metadata": {},
     "output_type": "execute_result"
    }
   ],
   "source": [
    "# Data to be used for EDA (Exploratory Data Analytics)\n",
    "EDA_data = original_data.copy()\n",
    "EDA_data.head()"
   ]
  },
  {
   "cell_type": "code",
   "execution_count": 39,
   "metadata": {},
   "outputs": [
    {
     "name": "stdout",
     "output_type": "stream",
     "text": [
      "Saving figure Monthly_Average_Attendnance\n"
     ]
    },
    {
     "data": {
      "image/png": "[encoded data removed]",
      "text/plain": [
       "<Figure size 432x288 with 1 Axes>"
      ]
     },
     "metadata": {
      "needs_background": "light"
     },
     "output_type": "display_data"
    }
   ],
   "source": [
    "idx = pandas.Int64Index([1,2,3,4,5,6,7,8,9,10,11,12])\n",
    "attendanceByMonth = pandas.DataFrame(original_data.groupby(by=\"Month\",as_index=False)['AttendancePercentage'].mean())\n",
    "x_eda_data = attendanceByMonth[\"Month\"]\n",
    "y_eda_data = attendanceByMonth[\"AttendancePercentage\"]\n",
    "\n",
    "_, ax = plt.subplots()\n",
    "# Draw bars, position them in the center of the tick mark on the x-axis\n",
    "ax.bar(x_eda_data, y_eda_data, color = '#539caf', align = 'center')\n",
    "# Draw error bars to show standard deviation, set ls to 'none'\n",
    "# to remove line between points\n",
    "ax.errorbar(x_eda_data, y_eda_data,  color = '#297083', ls = 'none', lw = 2, capthick = 2)\n",
    "ax.set_ylabel('Attendance Percentage')\n",
    "ax.set_xlabel('Month')\n",
    "ax.set_title('Month Wise Avarage Attendance')\n",
    "save_fig(\"Monthly_Average_Attendnance\")\n"
   ]
  },
  {
   "cell_type": "code",
   "execution_count": 40,
   "metadata": {},
   "outputs": [
    {
     "name": "stdout",
     "output_type": "stream",
     "text": [
      "Saving figure Attendance_Percentage_Density_Across_Months\n"
     ]
    },
    {
     "data": {
      "image/png": "[encoded data removed]",
      "text/plain": [
       "<Figure size 432x288 with 1 Axes>"
      ]
     },
     "metadata": {
      "needs_background": "light"
     },
     "output_type": "display_data"
    }
   ],
   "source": [
    "#Attendance Percentage Density acroos Months\n",
    "EDA_data.plot(kind=\"scatter\",x=\"Month\",y=\"AttendancePercentage\")\n",
    "save_fig(\"Attendance_Percentage_Density_Across_Months\")"
   ]
  },
  {
   "cell_type": "code",
   "execution_count": 41,
   "metadata": {},
   "outputs": [
    {
     "name": "stdout",
     "output_type": "stream",
     "text": [
      "Saving figure Attendance_Percentage_Density_Week_Days\n"
     ]
    },
    {
     "data": {
      "image/png": "[encoded data removed]",
      "text/plain": [
       "<Figure size 432x288 with 1 Axes>"
      ]
     },
     "metadata": {
      "needs_background": "light"
     },
     "output_type": "display_data"
    }
   ],
   "source": [
    "#Attendance Percentage Density across Week Days\n",
    "EDA_data.plot(kind=\"scatter\",x=\"WeekDay\",y=\"AttendancePercentage\",norm=\"Normalize\")\n",
    "save_fig(\"Attendance_Percentage_Density_Week_Days\")"
   ]
  },
  {
   "cell_type": "code",
   "execution_count": 42,
   "metadata": {},
   "outputs": [
    {
     "name": "stdout",
     "output_type": "stream",
     "text": [
      "Saving figure Attendance_Percentage_Density_Month_Days\n"
     ]
    },
    {
     "data": {
      "image/png": "[encoded data removed]",
      "text/plain": [
       "<Figure size 432x288 with 1 Axes>"
      ]
     },
     "metadata": {
      "needs_background": "light"
     },
     "output_type": "display_data"
    }
   ],
   "source": [
    "#Attendance Percentage Density across Month Days\n",
    "EDA_data.plot(kind=\"scatter\",x=\"Day\",y=\"AttendancePercentage\",norm=\"Normalize\")\n",
    "save_fig(\"Attendance_Percentage_Density_Month_Days\")"
   ]
  },
  {
   "cell_type": "code",
   "execution_count": 43,
   "metadata": {},
   "outputs": [
    {
     "data": {
      "text/html": [
       "<div>\n",
       "<style scoped>\n",
       "    .dataframe tbody tr th:only-of-type {\n",
       "        vertical-align: middle;\n",
       "    }\n",
       "\n",
       "    .dataframe tbody tr th {\n",
       "        vertical-align: top;\n",
       "    }\n",
       "\n",
       "    .dataframe thead th {\n",
       "        text-align: right;\n",
       "    }\n",
       "</style>\n",
       "<table border=\"1\" class=\"dataframe\">\n",
       "  <thead>\n",
       "    <tr style=\"text-align: right;\">\n",
       "      <th></th>\n",
       "      <th>Month</th>\n",
       "      <th>Day</th>\n",
       "      <th>WeekDay</th>\n",
       "      <th>Holiday</th>\n",
       "      <th>HolidayWeightage</th>\n",
       "      <th>NearHoliday</th>\n",
       "      <th>AttendancePercentage</th>\n",
       "    </tr>\n",
       "  </thead>\n",
       "  <tbody>\n",
       "    <tr>\n",
       "      <th>Month</th>\n",
       "      <td>1.000000</td>\n",
       "      <td>0.009515</td>\n",
       "      <td>0.002001</td>\n",
       "      <td>0.024241</td>\n",
       "      <td>-0.000417</td>\n",
       "      <td>-0.007507</td>\n",
       "      <td>-0.118926</td>\n",
       "    </tr>\n",
       "    <tr>\n",
       "      <th>Day</th>\n",
       "      <td>0.009515</td>\n",
       "      <td>1.000000</td>\n",
       "      <td>-0.005291</td>\n",
       "      <td>-0.012120</td>\n",
       "      <td>0.000587</td>\n",
       "      <td>0.007803</td>\n",
       "      <td>-0.030237</td>\n",
       "    </tr>\n",
       "    <tr>\n",
       "      <th>WeekDay</th>\n",
       "      <td>0.002001</td>\n",
       "      <td>-0.005291</td>\n",
       "      <td>1.000000</td>\n",
       "      <td>-0.147806</td>\n",
       "      <td>-0.034138</td>\n",
       "      <td>-0.158488</td>\n",
       "      <td>0.041402</td>\n",
       "    </tr>\n",
       "    <tr>\n",
       "      <th>Holiday</th>\n",
       "      <td>0.024241</td>\n",
       "      <td>-0.012120</td>\n",
       "      <td>-0.147806</td>\n",
       "      <td>1.000000</td>\n",
       "      <td>0.635717</td>\n",
       "      <td>0.447724</td>\n",
       "      <td>-0.557190</td>\n",
       "    </tr>\n",
       "    <tr>\n",
       "      <th>HolidayWeightage</th>\n",
       "      <td>-0.000417</td>\n",
       "      <td>0.000587</td>\n",
       "      <td>-0.034138</td>\n",
       "      <td>0.635717</td>\n",
       "      <td>1.000000</td>\n",
       "      <td>0.284626</td>\n",
       "      <td>-0.762410</td>\n",
       "    </tr>\n",
       "    <tr>\n",
       "      <th>NearHoliday</th>\n",
       "      <td>-0.007507</td>\n",
       "      <td>0.007803</td>\n",
       "      <td>-0.158488</td>\n",
       "      <td>0.447724</td>\n",
       "      <td>0.284626</td>\n",
       "      <td>1.000000</td>\n",
       "      <td>-0.303478</td>\n",
       "    </tr>\n",
       "    <tr>\n",
       "      <th>AttendancePercentage</th>\n",
       "      <td>-0.118926</td>\n",
       "      <td>-0.030237</td>\n",
       "      <td>0.041402</td>\n",
       "      <td>-0.557190</td>\n",
       "      <td>-0.762410</td>\n",
       "      <td>-0.303478</td>\n",
       "      <td>1.000000</td>\n",
       "    </tr>\n",
       "  </tbody>\n",
       "</table>\n",
       "</div>"
      ],
      "text/plain": [
       "                         Month       Day   WeekDay   Holiday  \\\n",
       "Month                 1.000000  0.009515  0.002001  0.024241   \n",
       "Day                   0.009515  1.000000 -0.005291 -0.012120   \n",
       "WeekDay               0.002001 -0.005291  1.000000 -0.147806   \n",
       "Holiday               0.024241 -0.012120 -0.147806  1.000000   \n",
       "HolidayWeightage     -0.000417  0.000587 -0.034138  0.635717   \n",
       "NearHoliday          -0.007507  0.007803 -0.158488  0.447724   \n",
       "AttendancePercentage -0.118926 -0.030237  0.041402 -0.557190   \n",
       "\n",
       "                      HolidayWeightage  NearHoliday  AttendancePercentage  \n",
       "Month                        -0.000417    -0.007507             -0.118926  \n",
       "Day                           0.000587     0.007803             -0.030237  \n",
       "WeekDay                      -0.034138    -0.158488              0.041402  \n",
       "Holiday                       0.635717     0.447724             -0.557190  \n",
       "HolidayWeightage              1.000000     0.284626             -0.762410  \n",
       "NearHoliday                   0.284626     1.000000             -0.303478  \n",
       "AttendancePercentage         -0.762410    -0.303478              1.000000  "
      ]
     },
     "execution_count": 43,
     "metadata": {},
     "output_type": "execute_result"
    }
   ],
   "source": [
    "\n",
    "corr_matrix = EDA_data.corr()\n",
    "\n",
    "corr_matrix"
   ]
  },
  {
   "cell_type": "code",
   "execution_count": 44,
   "metadata": {},
   "outputs": [
    {
     "data": {
      "text/html": [
       "<div>\n",
       "<style scoped>\n",
       "    .dataframe tbody tr th:only-of-type {\n",
       "        vertical-align: middle;\n",
       "    }\n",
       "\n",
       "    .dataframe tbody tr th {\n",
       "        vertical-align: top;\n",
       "    }\n",
       "\n",
       "    .dataframe thead th {\n",
       "        text-align: right;\n",
       "    }\n",
       "</style>\n",
       "<table border=\"1\" class=\"dataframe\">\n",
       "  <thead>\n",
       "    <tr style=\"text-align: right;\">\n",
       "      <th></th>\n",
       "      <th>Month</th>\n",
       "      <th>Day</th>\n",
       "      <th>WeekDay</th>\n",
       "      <th>Holiday</th>\n",
       "      <th>HolidayWeightage</th>\n",
       "      <th>NearHoliday</th>\n",
       "    </tr>\n",
       "  </thead>\n",
       "  <tbody>\n",
       "    <tr>\n",
       "      <th>0</th>\n",
       "      <td>1</td>\n",
       "      <td>12</td>\n",
       "      <td>3</td>\n",
       "      <td>0</td>\n",
       "      <td>0</td>\n",
       "      <td>0</td>\n",
       "    </tr>\n",
       "    <tr>\n",
       "      <th>1</th>\n",
       "      <td>11</td>\n",
       "      <td>29</td>\n",
       "      <td>4</td>\n",
       "      <td>0</td>\n",
       "      <td>0</td>\n",
       "      <td>0</td>\n",
       "    </tr>\n",
       "    <tr>\n",
       "      <th>2</th>\n",
       "      <td>5</td>\n",
       "      <td>18</td>\n",
       "      <td>6</td>\n",
       "      <td>0</td>\n",
       "      <td>0</td>\n",
       "      <td>0</td>\n",
       "    </tr>\n",
       "    <tr>\n",
       "      <th>3</th>\n",
       "      <td>7</td>\n",
       "      <td>1</td>\n",
       "      <td>5</td>\n",
       "      <td>0</td>\n",
       "      <td>0</td>\n",
       "      <td>0</td>\n",
       "    </tr>\n",
       "    <tr>\n",
       "      <th>4</th>\n",
       "      <td>3</td>\n",
       "      <td>9</td>\n",
       "      <td>6</td>\n",
       "      <td>0</td>\n",
       "      <td>0</td>\n",
       "      <td>0</td>\n",
       "    </tr>\n",
       "  </tbody>\n",
       "</table>\n",
       "</div>"
      ],
      "text/plain": [
       "   Month  Day  WeekDay  Holiday  HolidayWeightage  NearHoliday\n",
       "0      1   12        3        0                 0            0\n",
       "1     11   29        4        0                 0            0\n",
       "2      5   18        6        0                 0            0\n",
       "3      7    1        5        0                 0            0\n",
       "4      3    9        6        0                 0            0"
      ]
     },
     "execution_count": 44,
     "metadata": {},
     "output_type": "execute_result"
    }
   ],
   "source": [
    "# split into input (train_X) and output (train_Y) variables\n",
    "train_X = original_data.drop(columns='AttendancePercentage')\n",
    "train_X.head()"
   ]
  },
  {
   "cell_type": "code",
   "execution_count": 45,
   "metadata": {},
   "outputs": [
    {
     "data": {
      "text/html": [
       "<div>\n",
       "<style scoped>\n",
       "    .dataframe tbody tr th:only-of-type {\n",
       "        vertical-align: middle;\n",
       "    }\n",
       "\n",
       "    .dataframe tbody tr th {\n",
       "        vertical-align: top;\n",
       "    }\n",
       "\n",
       "    .dataframe thead th {\n",
       "        text-align: right;\n",
       "    }\n",
       "</style>\n",
       "<table border=\"1\" class=\"dataframe\">\n",
       "  <thead>\n",
       "    <tr style=\"text-align: right;\">\n",
       "      <th></th>\n",
       "      <th>AttendancePercentage</th>\n",
       "    </tr>\n",
       "  </thead>\n",
       "  <tbody>\n",
       "    <tr>\n",
       "      <th>0</th>\n",
       "      <td>88.412943</td>\n",
       "    </tr>\n",
       "    <tr>\n",
       "      <th>1</th>\n",
       "      <td>83.279077</td>\n",
       "    </tr>\n",
       "    <tr>\n",
       "      <th>2</th>\n",
       "      <td>82.807641</td>\n",
       "    </tr>\n",
       "    <tr>\n",
       "      <th>3</th>\n",
       "      <td>79.008746</td>\n",
       "    </tr>\n",
       "    <tr>\n",
       "      <th>4</th>\n",
       "      <td>84.423019</td>\n",
       "    </tr>\n",
       "  </tbody>\n",
       "</table>\n",
       "</div>"
      ],
      "text/plain": [
       "   AttendancePercentage\n",
       "0             88.412943\n",
       "1             83.279077\n",
       "2             82.807641\n",
       "3             79.008746\n",
       "4             84.423019"
      ]
     },
     "execution_count": 45,
     "metadata": {},
     "output_type": "execute_result"
    }
   ],
   "source": [
    "train_Y = original_data[['AttendancePercentage']]\n",
    "train_Y.head()"
   ]
  },
  {
   "cell_type": "code",
   "execution_count": 46,
   "metadata": {},
   "outputs": [],
   "source": [
    "# from sklearn.pipeline import Pipeline\n",
    "# from sklearn.preprocessing import StandardScaler\n",
    "# from sklearn.impute import SimpleImputer\n"
   ]
  },
  {
   "cell_type": "code",
   "execution_count": 47,
   "metadata": {},
   "outputs": [],
   "source": [
    "# define base model\n",
    "def baseline_model():\n",
    "    # create model\n",
    "    model = Sequential()\n",
    "    #kernel_initilaizer specifies how weights areinitalized.\n",
    "    #model.add(Dense(12, input_dim=6, kernel_initializer='normal', activation='relu'))\n",
    "    model.add(Dense(100, input_dim=6, activation='relu'))\n",
    "    #Activation functions tell us about the nonlinear relationships.\n",
    "    #No activation function is used for the output layer because it is a regression problem \n",
    "    #and we are interested in predicting numerical values directly without transform.\n",
    "    model.add(Dense(1, kernel_initializer='normal'))\n",
    "    #Other types of layers could be Convolutional and Recurrent.\n",
    "    # Compile model\n",
    "    model.compile(loss='mean_squared_error', optimizer='adam')\n",
    "    #The optimizer controls the learning rate.\n",
    "    return model"
   ]
  },
  {
   "cell_type": "code",
   "execution_count": 48,
   "metadata": {},
   "outputs": [],
   "source": [
    "seed = 7\n",
    "numpy.random.seed(seed)"
   ]
  },
  {
   "cell_type": "code",
   "execution_count": 49,
   "metadata": {},
   "outputs": [],
   "source": [
    "# fix random seed for reproducibility\n",
    "\n",
    "# evaluate model with standardized dataset\n",
    "estimator = KerasRegressor(build_fn=baseline_model, epochs=100, batch_size=5, verbose=0)"
   ]
  },
  {
   "cell_type": "code",
   "execution_count": 50,
   "metadata": {},
   "outputs": [
    {
     "name": "stderr",
     "output_type": "stream",
     "text": [
      "C:\\ProgramData\\Anaconda3\\envs\\tefenv\\lib\\site-packages\\sklearn\\model_selection\\_split.py:296: FutureWarning: Setting a random_state has no effect since shuffle is False. This will raise an error in 0.24. You should leave random_state to its default (None), or set shuffle=True.\n",
      "  FutureWarning\n"
     ]
    },
    {
     "name": "stdout",
     "output_type": "stream",
     "text": [
      "Results: -70.39 (29.68) MSE\n"
     ]
    }
   ],
   "source": [
    "kfold = KFold(n_splits=10, random_state=seed)\n",
    "results = cross_val_score(estimator, train_X, train_Y, cv=kfold)\n",
    "print(\"Results: %.2f (%.2f) MSE\" % (results.mean(), results.std()))"
   ]
  },
  {
   "cell_type": "code",
   "execution_count": 51,
   "metadata": {},
   "outputs": [
    {
     "name": "stdout",
     "output_type": "stream",
     "text": [
      "Standardized: -69.79 (29.48) MSE\n"
     ]
    }
   ],
   "source": [
    "# evaluate model with standardized dataset\n",
    "numpy.random.seed(seed)\n",
    "estimators = []\n",
    "estimators.append(('standardize', MinMaxScaler()))\n",
    "# The Keras wrapper object for use in scikit-learn \n",
    "# as a regression estimator is called KerasRegressor\n",
    "estimators.append(('mlp', KerasRegressor(build_fn=baseline_model, epochs=50, batch_size=5, verbose=0)))\n",
    "pipeline = Pipeline(estimators)\n",
    "kfold = KFold(n_splits=10, random_state=seed)\n",
    "results = cross_val_score(pipeline, train_X, train_Y, cv=kfold)\n",
    "print(\"Standardized: %.2f (%.2f) MSE\" % (results.mean(), results.std()))"
   ]
  },
  {
   "cell_type": "code",
   "execution_count": 52,
   "metadata": {},
   "outputs": [],
   "source": [
    "#Let's try larger network with L2 regularization\n",
    "# define the model\n",
    "def larger_model():\n",
    "# create model\n",
    "    model = Sequential()\n",
    "    model.add(Dense(60, input_dim=6, kernel_initializer='normal', activation='relu',kernel_regularizer=regularizers.l2(0.06)))    \n",
    "    \n",
    "    model.add(Dense(18, kernel_initializer='normal', activation='relu',kernel_regularizer=regularizers.l2(0.06)))\n",
    "    model.add(Dense(12, kernel_initializer='normal', activation='relu',kernel_regularizer=regularizers.l2(0.06)))\n",
    "    model.add(Dense(6, kernel_initializer='normal', activation='relu',kernel_regularizer=regularizers.l2(0.06)))    \n",
    "    model.add(Dense(1, kernel_initializer='normal'))\n",
    "    # Compile model\n",
    "    model.compile(loss='mean_squared_error', optimizer='adam')\n",
    "    \n",
    "    \n",
    "    return model"
   ]
  },
  {
   "cell_type": "code",
   "execution_count": 53,
   "metadata": {},
   "outputs": [],
   "source": [
    "#Let's try larger network with DROP OUT Regularization\n",
    "# define the model\n",
    "def larger_DO_LR_model():\n",
    "# create model\n",
    "    model = Sequential()\n",
    "    \n",
    "    model.add(Dense(64, input_dim=6, kernel_initializer='normal', activation='relu',kernel_constraint=maxnorm(3)))    \n",
    "    model.add(Dropout(0.1))\n",
    "    model.add(BatchNormalization(momentum=0.99))\n",
    "    model.add(Dense(32, kernel_initializer='normal', activation='relu',kernel_constraint=maxnorm(3)))        \n",
    "    \n",
    "    \n",
    "    \n",
    "    \n",
    "    model.add(Dropout(0.5))\n",
    "    \n",
    "    model.add(Dense(1, kernel_initializer='normal'))\n",
    "    # Compile model\n",
    "    # Using Learning Rate OPtimizer\n",
    "    # opt = SGD(lr=0.01,momentum=0.99)\n",
    "    #model.compile(loss='mean_squared_error', optimizer='adam')\n",
    "    model.compile(loss='mean_squared_error', optimizer='adam')\n",
    "    \n",
    "    \n",
    "    return model"
   ]
  },
  {
   "cell_type": "code",
   "execution_count": 54,
   "metadata": {},
   "outputs": [
    {
     "name": "stdout",
     "output_type": "stream",
     "text": [
      "Larger: -69.11 (29.97) MSE\n"
     ]
    }
   ],
   "source": [
    "numpy.random.seed(seed)\n",
    "estimators = []\n",
    "\n",
    "estimators.append(('standardize', StandardScaler()))\n",
    "estimators.append(('mlp', KerasRegressor(build_fn=larger_DO_LR_model, epochs=150, batch_size=20, verbose=0)))\n",
    "pipeline = Pipeline(estimators)\n",
    "kfold = KFold(n_splits=10)\n",
    "results = cross_val_score(pipeline, train_X, train_Y, cv=kfold)\n",
    "print(\"Larger: %.2f (%.2f) MSE\" % (results.mean(), results.std()))\n"
   ]
  },
  {
   "cell_type": "code",
   "execution_count": 55,
   "metadata": {},
   "outputs": [
    {
     "name": "stdout",
     "output_type": "stream",
     "text": [
      "[ -50.67389862  -22.98005376  -92.07389504  -36.62782561  -40.09469471\n",
      "  -60.2625044  -117.66486024 -104.3606973   -80.19040424  -86.16264933]\n"
     ]
    }
   ],
   "source": [
    "print(results)"
   ]
  },
  {
   "cell_type": "code",
   "execution_count": 56,
   "metadata": {},
   "outputs": [],
   "source": [
    "#Let's try larger network with DROP OUT Regularization\n",
    "# define the model\n",
    "def larger_DO_model():\n",
    "# create model\n",
    "    model = Sequential()\n",
    "    \n",
    "    model.add(Dense(128, input_dim=6, kernel_initializer='normal', activation='relu',kernel_constraint=maxnorm(3)))    \n",
    "    model.add(Dropout(0.1))\n",
    "    model.add(BatchNormalization(momentum=0.99))\n",
    "    model.add(Dense(64, kernel_initializer='normal', activation='relu',kernel_constraint=maxnorm(3)))        \n",
    "    model.add(Dropout(0.5))\n",
    "    model.add(Dense(1, kernel_initializer='normal'))\n",
    "    # Compile model\n",
    "    model.compile(loss='mean_squared_error', optimizer='adam')\n",
    "    \n",
    "    \n",
    "    return model"
   ]
  },
  {
   "cell_type": "code",
   "execution_count": 57,
   "metadata": {},
   "outputs": [
    {
     "name": "stdout",
     "output_type": "stream",
     "text": [
      "Larger: -78.06 (33.50) MSE\n"
     ]
    }
   ],
   "source": [
    "numpy.random.seed(seed)\n",
    "estimators = []\n",
    "estimators.append(('standardize', MinMaxScaler()))\n",
    "estimators.append(('mlp', KerasRegressor(build_fn=larger_DO_model, epochs=150, batch_size=128, verbose=0)))\n",
    "pipeline = Pipeline(estimators)\n",
    "kfold = KFold(n_splits=10, random_state=seed, shuffle=True)\n",
    "results = cross_val_score(pipeline, train_X, train_Y, cv=kfold)\n",
    "print(\"Larger: %.2f (%.2f) MSE\" % (results.mean(), results.std()))"
   ]
  },
  {
   "cell_type": "code",
   "execution_count": 58,
   "metadata": {},
   "outputs": [],
   "source": [
    "#Evaluate a Wider Network Topology"
   ]
  },
  {
   "cell_type": "code",
   "execution_count": 59,
   "metadata": {},
   "outputs": [],
   "source": [
    "# define wider model\n",
    "def wider_model():\n",
    "    # create model\n",
    "    model = Sequential()\n",
    "    model.add(Dense(150,input_dim=6, kernel_initializer='normal', activation='relu'))\n",
    "    \n",
    "    model.add(Dense(1, kernel_initializer='normal'))\n",
    "    # Compile model\n",
    "    model.compile(loss='mean_squared_error', optimizer='adam')\n",
    "    return model"
   ]
  },
  {
   "cell_type": "code",
   "execution_count": 60,
   "metadata": {},
   "outputs": [
    {
     "name": "stderr",
     "output_type": "stream",
     "text": [
      "C:\\ProgramData\\Anaconda3\\envs\\tefenv\\lib\\site-packages\\sklearn\\model_selection\\_split.py:296: FutureWarning: Setting a random_state has no effect since shuffle is False. This will raise an error in 0.24. You should leave random_state to its default (None), or set shuffle=True.\n",
      "  FutureWarning\n"
     ]
    },
    {
     "name": "stdout",
     "output_type": "stream",
     "text": [
      "Wider: -85.70 (32.44) MSE\n"
     ]
    }
   ],
   "source": [
    "numpy.random.seed(seed)\n",
    "estimators = []\n",
    "estimators.append(('standardize', StandardScaler()))\n",
    "estimators.append(('mlp', KerasRegressor(build_fn=wider_model, epochs=100, batch_size=150, verbose=0)))\n",
    "pipeline = Pipeline(estimators)\n",
    "kfold = KFold(n_splits=10, random_state=seed)\n",
    "results = cross_val_score(pipeline, train_X, train_Y, cv=kfold)\n",
    "print(\"Wider: %.2f (%.2f) MSE\" % (results.mean(), results.std()))"
   ]
  },
  {
   "cell_type": "code",
   "execution_count": 61,
   "metadata": {},
   "outputs": [
    {
     "name": "stdout",
     "output_type": "stream",
     "text": [
      "Train on 1908 samples, validate on 212 samples\n",
      "Epoch 1/100\n",
      "1908/1908 [==============================] - 0s 158us/step - loss: 6638.7956 - val_loss: 6548.3813\n",
      "Epoch 2/100\n",
      "1908/1908 [==============================] - 0s 26us/step - loss: 6388.2117 - val_loss: 6278.0600\n",
      "Epoch 3/100\n",
      "1908/1908 [==============================] - 0s 26us/step - loss: 5742.4876 - val_loss: 5697.5480\n",
      "Epoch 4/100\n",
      "1908/1908 [==============================] - 0s 24us/step - loss: 4646.7709 - val_loss: 4342.0795\n",
      "Epoch 5/100\n",
      "1908/1908 [==============================] - 0s 22us/step - loss: 3388.5970 - val_loss: 3143.4350\n",
      "Epoch 6/100\n",
      "1908/1908 [==============================] - 0s 23us/step - loss: 2371.3830 - val_loss: 2213.2216\n",
      "Epoch 7/100\n",
      "1908/1908 [==============================] - 0s 23us/step - loss: 1733.5514 - val_loss: 1621.1976\n",
      "Epoch 8/100\n",
      "1908/1908 [==============================] - 0s 23us/step - loss: 1390.0452 - val_loss: 1361.3292\n",
      "Epoch 9/100\n",
      "1908/1908 [==============================] - 0s 27us/step - loss: 1130.8694 - val_loss: 956.5487\n",
      "Epoch 10/100\n",
      "1908/1908 [==============================] - 0s 25us/step - loss: 906.3025 - val_loss: 543.3141\n",
      "Epoch 11/100\n",
      "1908/1908 [==============================] - 0s 23us/step - loss: 699.2362 - val_loss: 284.1593\n",
      "Epoch 12/100\n",
      "1908/1908 [==============================] - 0s 23us/step - loss: 595.9001 - val_loss: 191.3663\n",
      "Epoch 13/100\n",
      "1908/1908 [==============================] - 0s 23us/step - loss: 564.8246 - val_loss: 143.7181\n",
      "Epoch 14/100\n",
      "1908/1908 [==============================] - 0s 23us/step - loss: 511.1528 - val_loss: 142.8356\n",
      "Epoch 15/100\n",
      "1908/1908 [==============================] - 0s 24us/step - loss: 466.7072 - val_loss: 117.3396\n",
      "Epoch 16/100\n",
      "1908/1908 [==============================] - 0s 24us/step - loss: 492.3252 - val_loss: 118.4849\n",
      "Epoch 17/100\n",
      "1908/1908 [==============================] - 0s 24us/step - loss: 477.3949 - val_loss: 113.4106\n",
      "Epoch 18/100\n",
      "1908/1908 [==============================] - 0s 24us/step - loss: 459.7068 - val_loss: 111.6772\n",
      "Epoch 19/100\n",
      "1908/1908 [==============================] - 0s 25us/step - loss: 428.0911 - val_loss: 112.2924\n",
      "Epoch 20/100\n",
      "1908/1908 [==============================] - 0s 23us/step - loss: 453.9346 - val_loss: 99.9186\n",
      "Epoch 21/100\n",
      "1908/1908 [==============================] - 0s 25us/step - loss: 448.6518 - val_loss: 105.1094\n",
      "Epoch 22/100\n",
      "1908/1908 [==============================] - 0s 24us/step - loss: 438.3220 - val_loss: 98.6179\n",
      "Epoch 23/100\n",
      "1908/1908 [==============================] - 0s 24us/step - loss: 433.8481 - val_loss: 98.2104\n",
      "Epoch 24/100\n",
      "1908/1908 [==============================] - 0s 23us/step - loss: 435.0519 - val_loss: 98.0571\n",
      "Epoch 25/100\n",
      "1908/1908 [==============================] - 0s 26us/step - loss: 403.8431 - val_loss: 110.1895\n",
      "Epoch 26/100\n",
      "1908/1908 [==============================] - 0s 24us/step - loss: 427.7015 - val_loss: 98.7916\n",
      "Epoch 27/100\n",
      "1908/1908 [==============================] - 0s 23us/step - loss: 390.1489 - val_loss: 106.5569\n",
      "Epoch 28/100\n",
      "1908/1908 [==============================] - 0s 25us/step - loss: 373.0015 - val_loss: 99.7280\n",
      "Epoch 29/100\n",
      "1908/1908 [==============================] - 0s 23us/step - loss: 384.5932 - val_loss: 112.4455\n",
      "Epoch 30/100\n",
      "1908/1908 [==============================] - 0s 24us/step - loss: 364.1524 - val_loss: 100.9747\n",
      "Epoch 31/100\n",
      "1908/1908 [==============================] - 0s 24us/step - loss: 382.8856 - val_loss: 97.4978\n",
      "Epoch 32/100\n",
      "1908/1908 [==============================] - 0s 24us/step - loss: 392.9515 - val_loss: 104.8857\n",
      "Epoch 33/100\n",
      "1908/1908 [==============================] - 0s 24us/step - loss: 376.2856 - val_loss: 98.4718\n",
      "Epoch 34/100\n",
      "1908/1908 [==============================] - 0s 24us/step - loss: 356.1943 - val_loss: 104.7366\n",
      "Epoch 35/100\n",
      "1908/1908 [==============================] - 0s 24us/step - loss: 378.5574 - val_loss: 99.8331\n",
      "Epoch 36/100\n",
      "1908/1908 [==============================] - 0s 24us/step - loss: 344.6078 - val_loss: 97.2376\n",
      "Epoch 37/100\n",
      "1908/1908 [==============================] - 0s 24us/step - loss: 343.2488 - val_loss: 92.6371\n",
      "Epoch 38/100\n",
      "1908/1908 [==============================] - 0s 25us/step - loss: 346.0166 - val_loss: 102.8833\n",
      "Epoch 39/100\n",
      "1908/1908 [==============================] - 0s 23us/step - loss: 338.2500 - val_loss: 90.6238\n",
      "Epoch 40/100\n",
      "1908/1908 [==============================] - 0s 23us/step - loss: 329.2236 - val_loss: 90.9577\n",
      "Epoch 41/100\n",
      "1908/1908 [==============================] - 0s 24us/step - loss: 327.5252 - val_loss: 88.4859\n",
      "Epoch 42/100\n",
      "1908/1908 [==============================] - 0s 24us/step - loss: 341.2970 - val_loss: 89.7153\n",
      "Epoch 43/100\n",
      "1908/1908 [==============================] - 0s 26us/step - loss: 327.3401 - val_loss: 86.8917\n",
      "Epoch 44/100\n",
      "1908/1908 [==============================] - 0s 25us/step - loss: 324.5832 - val_loss: 90.9153\n",
      "Epoch 45/100\n",
      "1908/1908 [==============================] - 0s 25us/step - loss: 343.0359 - val_loss: 88.4045\n",
      "Epoch 46/100\n",
      "1908/1908 [==============================] - 0s 24us/step - loss: 322.9906 - val_loss: 87.4683\n",
      "Epoch 47/100\n",
      "1908/1908 [==============================] - 0s 25us/step - loss: 313.4372 - val_loss: 88.8462\n",
      "Epoch 48/100\n",
      "1908/1908 [==============================] - 0s 25us/step - loss: 313.4191 - val_loss: 91.2055\n",
      "Epoch 49/100\n",
      "1908/1908 [==============================] - 0s 25us/step - loss: 313.1956 - val_loss: 95.4425\n",
      "Epoch 50/100\n",
      "1908/1908 [==============================] - 0s 30us/step - loss: 302.8363 - val_loss: 99.9928\n",
      "Epoch 51/100\n",
      "1908/1908 [==============================] - 0s 31us/step - loss: 317.0917 - val_loss: 96.4399\n",
      "Epoch 52/100\n",
      "1908/1908 [==============================] - 0s 27us/step - loss: 296.8653 - val_loss: 95.7175\n",
      "Epoch 53/100\n",
      "1908/1908 [==============================] - 0s 26us/step - loss: 305.6579 - val_loss: 93.3675\n",
      "Epoch 54/100\n",
      "1908/1908 [==============================] - 0s 25us/step - loss: 293.0752 - val_loss: 91.0191\n",
      "Epoch 55/100\n",
      "1908/1908 [==============================] - 0s 25us/step - loss: 296.3382 - val_loss: 92.2251\n",
      "Epoch 56/100\n",
      "1908/1908 [==============================] - 0s 25us/step - loss: 291.0088 - val_loss: 94.7482\n",
      "Epoch 57/100\n",
      "1908/1908 [==============================] - 0s 26us/step - loss: 282.4063 - val_loss: 91.1206\n",
      "Epoch 58/100\n",
      "1908/1908 [==============================] - ETA: 0s - loss: 278.493 - 0s 26us/step - loss: 295.7779 - val_loss: 87.7728\n",
      "Epoch 59/100\n",
      "1908/1908 [==============================] - 0s 26us/step - loss: 288.1761 - val_loss: 93.1374\n",
      "Epoch 60/100\n",
      "1908/1908 [==============================] - 0s 26us/step - loss: 286.9335 - val_loss: 89.8383\n",
      "Epoch 61/100\n",
      "1908/1908 [==============================] - 0s 25us/step - loss: 274.8833 - val_loss: 89.8342\n",
      "Epoch 62/100\n",
      "1908/1908 [==============================] - 0s 25us/step - loss: 281.2899 - val_loss: 89.9197\n",
      "Epoch 63/100\n",
      "1908/1908 [==============================] - 0s 27us/step - loss: 282.3176 - val_loss: 89.9020\n",
      "Epoch 64/100\n",
      "1908/1908 [==============================] - 0s 26us/step - loss: 274.7486 - val_loss: 90.5922\n",
      "Epoch 65/100\n",
      "1908/1908 [==============================] - 0s 26us/step - loss: 281.2824 - val_loss: 92.5406\n",
      "Epoch 66/100\n",
      "1908/1908 [==============================] - 0s 26us/step - loss: 276.1255 - val_loss: 93.1549\n",
      "Epoch 67/100\n",
      "1908/1908 [==============================] - 0s 26us/step - loss: 278.6172 - val_loss: 88.1870\n",
      "Epoch 68/100\n",
      "1908/1908 [==============================] - 0s 25us/step - loss: 275.7712 - val_loss: 91.1470\n",
      "Epoch 69/100\n",
      "1908/1908 [==============================] - 0s 27us/step - loss: 295.2116 - val_loss: 91.0971\n",
      "Epoch 70/100\n",
      "1908/1908 [==============================] - 0s 26us/step - loss: 287.2568 - val_loss: 89.9716\n",
      "Epoch 71/100\n",
      "1908/1908 [==============================] - 0s 26us/step - loss: 281.7830 - val_loss: 93.7035\n",
      "Epoch 72/100\n",
      "1908/1908 [==============================] - 0s 26us/step - loss: 280.1986 - val_loss: 91.3286\n",
      "Epoch 73/100\n",
      "1908/1908 [==============================] - 0s 25us/step - loss: 273.4638 - val_loss: 94.7803\n",
      "Epoch 74/100\n",
      "1908/1908 [==============================] - 0s 26us/step - loss: 276.2339 - val_loss: 92.5477\n",
      "Epoch 75/100\n",
      "1908/1908 [==============================] - 0s 26us/step - loss: 286.0930 - val_loss: 91.2995\n"
     ]
    },
    {
     "name": "stdout",
     "output_type": "stream",
     "text": [
      "Epoch 76/100\n",
      "1908/1908 [==============================] - 0s 25us/step - loss: 283.8802 - val_loss: 94.9212\n",
      "Epoch 77/100\n",
      "1908/1908 [==============================] - 0s 25us/step - loss: 287.0893 - val_loss: 95.8735\n",
      "Epoch 78/100\n",
      "1908/1908 [==============================] - 0s 25us/step - loss: 277.6789 - val_loss: 93.5560\n",
      "Epoch 79/100\n",
      "1908/1908 [==============================] - 0s 25us/step - loss: 280.9948 - val_loss: 95.7077\n",
      "Epoch 80/100\n",
      "1908/1908 [==============================] - 0s 26us/step - loss: 301.1517 - val_loss: 98.0869\n",
      "Epoch 81/100\n",
      "1908/1908 [==============================] - 0s 25us/step - loss: 281.4240 - val_loss: 91.5229\n",
      "Epoch 82/100\n",
      "1908/1908 [==============================] - 0s 25us/step - loss: 261.9522 - val_loss: 90.6313\n",
      "Epoch 83/100\n",
      "1908/1908 [==============================] - 0s 26us/step - loss: 276.8507 - val_loss: 91.1726\n",
      "Epoch 84/100\n",
      "1908/1908 [==============================] - 0s 25us/step - loss: 269.0776 - val_loss: 95.5447\n",
      "Epoch 85/100\n",
      "1908/1908 [==============================] - 0s 25us/step - loss: 287.2128 - val_loss: 96.5380\n",
      "Epoch 86/100\n",
      "1908/1908 [==============================] - 0s 28us/step - loss: 270.9682 - val_loss: 92.4042\n",
      "Epoch 87/100\n",
      "1908/1908 [==============================] - 0s 27us/step - loss: 277.2075 - val_loss: 91.7504\n",
      "Epoch 88/100\n",
      "1908/1908 [==============================] - 0s 26us/step - loss: 292.1996 - val_loss: 94.1729\n",
      "Epoch 89/100\n",
      "1908/1908 [==============================] - 0s 27us/step - loss: 290.8773 - val_loss: 93.0548\n",
      "Epoch 90/100\n",
      "1908/1908 [==============================] - 0s 26us/step - loss: 281.6415 - val_loss: 98.8486\n",
      "Epoch 91/100\n",
      "1908/1908 [==============================] - 0s 27us/step - loss: 282.5678 - val_loss: 93.6853\n",
      "Epoch 92/100\n",
      "1908/1908 [==============================] - 0s 28us/step - loss: 268.5769 - val_loss: 91.0576\n",
      "Epoch 93/100\n",
      "1908/1908 [==============================] - 0s 27us/step - loss: 262.6090 - val_loss: 98.3051\n",
      "Epoch 94/100\n",
      "1908/1908 [==============================] - 0s 27us/step - loss: 283.2082 - val_loss: 95.3113\n",
      "Epoch 95/100\n",
      "1908/1908 [==============================] - 0s 27us/step - loss: 276.7622 - val_loss: 94.0000\n",
      "Epoch 96/100\n",
      "1908/1908 [==============================] - 0s 26us/step - loss: 280.5711 - val_loss: 93.5215\n",
      "Epoch 97/100\n",
      "1908/1908 [==============================] - 0s 26us/step - loss: 294.0258 - val_loss: 91.4164\n",
      "Epoch 98/100\n",
      "1908/1908 [==============================] - 0s 25us/step - loss: 298.0898 - val_loss: 94.0087\n",
      "Epoch 99/100\n",
      "1908/1908 [==============================] - 0s 26us/step - loss: 284.8743 - val_loss: 90.1110\n",
      "Epoch 100/100\n",
      "1908/1908 [==============================] - 0s 25us/step - loss: 286.4219 - val_loss: 99.3140\n"
     ]
    },
    {
     "data": {
      "text/plain": [
       "<keras.callbacks.callbacks.History at 0x2b160678688>"
      ]
     },
     "execution_count": 61,
     "metadata": {},
     "output_type": "execute_result"
    }
   ],
   "source": [
    "from numpy import array\n",
    "# define wider model\n",
    "# create model\n",
    "model = larger_DO_LR_model()\n",
    "#set early stopping monitor so the model stops training when it won't improve anymore\n",
    "early_stopping_monitor = EarlyStopping(patience=3)\n",
    "\n",
    "# Batch size should be in the multiple of 2 e.g 64, 128, 256 etc\n",
    "model.fit(train_X,train_Y,validation_split=0.1, epochs=100,batch_size=64)\n",
    "# epochs represent the number of times, model will cycle through the data. \n",
    "# More the number of cycles, results are likely to improve. To monitor this,we can use early stopping.\n",
    "\n",
    "\n",
    "\n",
    "\n",
    "    "
   ]
  },
  {
   "cell_type": "code",
   "execution_count": 62,
   "metadata": {},
   "outputs": [
    {
     "name": "stdout",
     "output_type": "stream",
     "text": [
      "Percentage of employees expected to attend office: [81.51985]\n"
     ]
    }
   ],
   "source": [
    "\n",
    "# Number of employees expected to attend office on a normal day\n",
    "# Parameters: \n",
    "    #Month of year : 5 (May)\n",
    "    # Day of Month : 17 , \n",
    "    # Day of Week : 3 (Tuesday),\n",
    "    # Is Holiday? : 0 (No)\n",
    "    # Holiday weightage: 0 (As this is not a holiday)\n",
    "    # Near holiday: 0 (No)\n",
    "\n",
    "train_Xnew = array([[5,17,3,0,0,0]])\n",
    "\n",
    "ynew = model.predict(train_Xnew)\n",
    "print(\"Percentage of employees expected to attend office: %s\" % (ynew[0]))\n"
   ]
  },
  {
   "cell_type": "code",
   "execution_count": 63,
   "metadata": {},
   "outputs": [
    {
     "name": "stdout",
     "output_type": "stream",
     "text": [
      "Percentage of employees expected to attend office: [52.832874]\n"
     ]
    }
   ],
   "source": [
    "# Number of employees expected to attend office on a Holiday for 30% employees\n",
    "# Parameters: \n",
    "    #Month of year : 5 (May)\n",
    "    # Day of Month : 19 , \n",
    "    # Day of Week : 6 (Friday),\n",
    "    # Is Holiday? : 1 Yes\n",
    "    # Holiday weightage: 30 \n",
    "    # Near holiday: 1 Yes\n",
    "\n",
    "train_Xnew = array([[5,19,6,1,30,1]])\n",
    "\n",
    "ynew = model.predict(train_Xnew)\n",
    "print(\"Percentage of employees expected to attend office: %s\" % (ynew[0]))\n"
   ]
  },
  {
   "cell_type": "code",
   "execution_count": 64,
   "metadata": {},
   "outputs": [
    {
     "name": "stdout",
     "output_type": "stream",
     "text": [
      "Percentage of employees expected to attend office: [7.445273]\n"
     ]
    }
   ],
   "source": [
    "# Number of employees expected to attend office on a Holiday for 80% employees\n",
    "# Parameters: \n",
    "    #Month of year : 10 (October)\n",
    "    # Day of Month : 18 , \n",
    "    # Day of Week : 4 (Wednesday),\n",
    "    # Is Holiday? : 1 (Yes)\n",
    "    # Holiday weightage: 80 \n",
    "    # Near holiday: 1 (Yes)\n",
    "\n",
    "train_Xnew = array([[10,18,4,1,80,1]])\n",
    "\n",
    "ynew = model.predict(train_Xnew)\n",
    "print(\"Percentage of employees expected to attend office: %s\" % (ynew[0]))"
   ]
  },
  {
   "cell_type": "code",
   "execution_count": 65,
   "metadata": {},
   "outputs": [
    {
     "name": "stdout",
     "output_type": "stream",
     "text": [
      "Percentage of employees expected to attend office: [57.138332]\n"
     ]
    }
   ],
   "source": [
    "# Number of employees expected to attend office on a day in December end on Normal day\n",
    "# Parameters: \n",
    "    #Month of year : 12 (December)\n",
    "    # Day of Month : 4 , \n",
    "    # Day of Week : 2 (Monday),\n",
    "    # Is Holiday? : 0 (Yes)\n",
    "    # Holiday weightage: 0 \n",
    "    # Near holiday: 1 (Yes)\n",
    "\n",
    "train_Xnew = array([[12,5,2,1,20,1]])\n",
    "\n",
    "ynew = model.predict(train_Xnew)\n",
    "print(\"Percentage of employees expected to attend office: %s\" % (ynew[0]))"
   ]
  },
  {
   "cell_type": "code",
   "execution_count": null,
   "metadata": {},
   "outputs": [],
   "source": []
  }
 ],
 "metadata": {
  "kernelspec": {
   "display_name": "Python 3",
   "language": "python",
   "name": "python3"
  },
  "language_info": {
   "codemirror_mode": {
    "name": "ipython",
    "version": 3
   },
   "file_extension": ".py",
   "mimetype": "text/x-python",
   "name": "python",
   "nbconvert_exporter": "python",
   "pygments_lexer": "ipython3",
   "version": "3.7.7"
  }
 },
 "nbformat": 4,
 "nbformat_minor": 2
}
